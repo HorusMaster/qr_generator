{
  "nbformat": 4,
  "nbformat_minor": 0,
  "metadata": {
    "colab": {
      "provenance": [],
      "mount_file_id": "13Me8ViOUAvFS6v9T0I92yKIIYKtXAYrQ",
      "authorship_tag": "ABX9TyNjwFYHDGjVkZGMccmlx5KF",
      "include_colab_link": true
    },
    "kernelspec": {
      "name": "python3",
      "display_name": "Python 3"
    },
    "language_info": {
      "name": "python"
    }
  },
  "cells": [
    {
      "cell_type": "markdown",
      "metadata": {
        "id": "view-in-github",
        "colab_type": "text"
      },
      "source": [
        "<a href=\"https://colab.research.google.com/github/HorusMaster/qr_generator/blob/develop/QR_generator.ipynb\" target=\"_parent\"><img src=\"https://colab.research.google.com/assets/colab-badge.svg\" alt=\"Open In Colab\"/></a>"
      ]
    },
    {
      "cell_type": "code",
      "source": [
        "# Esto se ejecuta solo una vez\n",
        "!pip install qrcode"
      ],
      "metadata": {
        "colab": {
          "base_uri": "https://localhost:8080/"
        },
        "id": "qdZlDGpsiFh1",
        "outputId": "06655693-2539-48c2-d69d-7e016da67a89"
      },
      "execution_count": null,
      "outputs": [
        {
          "output_type": "stream",
          "name": "stdout",
          "text": [
            "Collecting qrcode\n",
            "  Downloading qrcode-7.4.2-py3-none-any.whl (46 kB)\n",
            "\u001b[2K     \u001b[90m━━━━━━━━━━━━━━━━━━━━━━━━━━━━━━━━━━━━━━━━\u001b[0m \u001b[32m46.2/46.2 kB\u001b[0m \u001b[31m1.5 MB/s\u001b[0m eta \u001b[36m0:00:00\u001b[0m\n",
            "\u001b[?25hRequirement already satisfied: typing-extensions in /usr/local/lib/python3.10/dist-packages (from qrcode) (4.10.0)\n",
            "Collecting pypng (from qrcode)\n",
            "  Downloading pypng-0.20220715.0-py3-none-any.whl (58 kB)\n",
            "\u001b[2K     \u001b[90m━━━━━━━━━━━━━━━━━━━━━━━━━━━━━━━━━━━━━━━━\u001b[0m \u001b[32m58.1/58.1 kB\u001b[0m \u001b[31m3.4 MB/s\u001b[0m eta \u001b[36m0:00:00\u001b[0m\n",
            "\u001b[?25hInstalling collected packages: pypng, qrcode\n",
            "Successfully installed pypng-0.20220715.0 qrcode-7.4.2\n"
          ]
        }
      ]
    },
    {
      "cell_type": "code",
      "source": [
        "import qrcode\n",
        "import os\n",
        "import random\n",
        "import string\n",
        "from datetime import datetime\n",
        "from google.colab import drive\n",
        "\n",
        "# Montar Google Drive\n",
        "drive.mount('/content/drive')\n",
        "\n",
        "def generate_random_data(length):\n",
        "    return ''.join(random.choices(string.ascii_letters + string.digits, k=length))\n",
        "\n",
        "def generate_qr_codes(num_codes):\n",
        "    if not os.path.exists('/content/drive/My Drive/qr_codes'):\n",
        "        os.makedirs('/content/drive/My Drive/qr_codes')\n",
        "\n",
        "    # Obtener la fecha y hora actual\n",
        "    now = datetime.now()\n",
        "    timestamp = now.strftime('%Y-%m-%d_%H-%M-%S')\n",
        "\n",
        "    # Crear el nombre del archivo con la fecha y hora\n",
        "    filename = f'hexadecimal_data_{timestamp}.txt'\n",
        "\n",
        "    # Abre un solo archivo de texto para todas las representaciones hexadecimales\n",
        "    with open(os.path.join('/content/drive/My Drive/qr_codes', filename), 'w') as f:\n",
        "        for i in range(num_codes):\n",
        "            # Genera datos aleatorios de 8 caracteres\n",
        "            data = generate_random_data(8)\n",
        "\n",
        "            # Genera el código QR\n",
        "            qr = qrcode.QRCode(\n",
        "                version=1,\n",
        "                error_correction=qrcode.constants.ERROR_CORRECT_L,\n",
        "                box_size=10,\n",
        "                border=4,\n",
        "            )\n",
        "            qr.add_data(data)\n",
        "            qr.make(fit=True)\n",
        "            img = qr.make_image(fill_color=\"black\", back_color=\"white\")\n",
        "\n",
        "            # Guarda el código QR como imagen\n",
        "            img_filename = f'{data}.png'\n",
        "            img_path = os.path.join('/content/drive/My Drive/qr_codes', img_filename)\n",
        "            img.save(img_path)\n",
        "\n",
        "            # Convierte los datos a hexadecimal (invertido y sin espacios)\n",
        "            hex_data = ''.join(hex(ord(c))[2:] for c in data[::-1])\n",
        "\n",
        "            # Escribe la representación hexadecimal en el archivo de texto junto con el nombre de la imagen\n",
        "            f.write(f'Image: {img_filename}, Hexadecimal: {hex_data}\\n')\n",
        "\n",
        "if __name__ == \"__main__\":\n",
        "    num_codes = int(input(\"Ingrese el número de códigos QR a generar: \"))\n",
        "\n",
        "    generate_qr_codes(num_codes)\n",
        "    print(f\"Se han generado {num_codes} códigos QR junto con sus representaciones hexadecimales y se han guardado en Google Drive.\")\n"
      ],
      "metadata": {
        "colab": {
          "base_uri": "https://localhost:8080/"
        },
        "id": "K6xUTTtXnL0-",
        "outputId": "38e6f1c0-bf3d-4854-9fe4-a8fb77660f22"
      },
      "execution_count": null,
      "outputs": [
        {
          "output_type": "stream",
          "name": "stdout",
          "text": [
            "Drive already mounted at /content/drive; to attempt to forcibly remount, call drive.mount(\"/content/drive\", force_remount=True).\n",
            "Ingrese el número de códigos QR a generar: 2\n",
            "Se han generado 2 códigos QR junto con sus representaciones hexadecimales y se han guardado en Google Drive.\n"
          ]
        }
      ]
    }
  ]
}